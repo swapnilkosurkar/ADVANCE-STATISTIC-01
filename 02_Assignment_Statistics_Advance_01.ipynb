{
  "nbformat": 4,
  "nbformat_minor": 0,
  "metadata": {
    "colab": {
      "provenance": []
    },
    "kernelspec": {
      "name": "python3",
      "display_name": "Python 3"
    },
    "language_info": {
      "name": "python"
    },
    "widgets": {
      "application/vnd.jupyter.widget-state+json": {
        "4f562c6a7214431f8f7b4dcf637ae7c6": {
          "model_module": "@jupyter-widgets/output",
          "model_name": "OutputModel",
          "model_module_version": "1.0.0",
          "state": {
            "_dom_classes": [],
            "_model_module": "@jupyter-widgets/output",
            "_model_module_version": "1.0.0",
            "_model_name": "OutputModel",
            "_view_count": null,
            "_view_module": "@jupyter-widgets/output",
            "_view_module_version": "1.0.0",
            "_view_name": "OutputView",
            "layout": "IPY_MODEL_1fa8f81ee6e34a67af00f9aa116bcd37",
            "msg_id": "",
            "outputs": [
              {
                "output_type": "display_data",
                "data": {
                  "text/plain": "Sampling chain 0, 2 divergences \u001b[32m━━━━━━━━━━━━━━━━━━━━━━━━━━━━━━━━━━━━━━━━\u001b[0m \u001b[35m100%\u001b[0m \u001b[36m0:00:00\u001b[0m / \u001b[33m0:00:05\u001b[0m\n",
                  "text/html": "<pre style=\"white-space:pre;overflow-x:auto;line-height:normal;font-family:Menlo,'DejaVu Sans Mono',consolas,'Courier New',monospace\">Sampling chain 0, 2 divergences <span style=\"color: #008000; text-decoration-color: #008000\">━━━━━━━━━━━━━━━━━━━━━━━━━━━━━━━━━━━━━━━━</span> <span style=\"color: #800080; text-decoration-color: #800080\">100%</span> <span style=\"color: #008080; text-decoration-color: #008080\">0:00:00</span> / <span style=\"color: #808000; text-decoration-color: #808000\">0:00:05</span>\n</pre>\n"
                },
                "metadata": {}
              }
            ]
          }
        },
        "1fa8f81ee6e34a67af00f9aa116bcd37": {
          "model_module": "@jupyter-widgets/base",
          "model_name": "LayoutModel",
          "model_module_version": "1.2.0",
          "state": {
            "_model_module": "@jupyter-widgets/base",
            "_model_module_version": "1.2.0",
            "_model_name": "LayoutModel",
            "_view_count": null,
            "_view_module": "@jupyter-widgets/base",
            "_view_module_version": "1.2.0",
            "_view_name": "LayoutView",
            "align_content": null,
            "align_items": null,
            "align_self": null,
            "border": null,
            "bottom": null,
            "display": null,
            "flex": null,
            "flex_flow": null,
            "grid_area": null,
            "grid_auto_columns": null,
            "grid_auto_flow": null,
            "grid_auto_rows": null,
            "grid_column": null,
            "grid_gap": null,
            "grid_row": null,
            "grid_template_areas": null,
            "grid_template_columns": null,
            "grid_template_rows": null,
            "height": null,
            "justify_content": null,
            "justify_items": null,
            "left": null,
            "margin": null,
            "max_height": null,
            "max_width": null,
            "min_height": null,
            "min_width": null,
            "object_fit": null,
            "object_position": null,
            "order": null,
            "overflow": null,
            "overflow_x": null,
            "overflow_y": null,
            "padding": null,
            "right": null,
            "top": null,
            "visibility": null,
            "width": null
          }
        },
        "adc714ace7f047bd92799cceb8be460f": {
          "model_module": "@jupyter-widgets/output",
          "model_name": "OutputModel",
          "model_module_version": "1.0.0",
          "state": {
            "_dom_classes": [],
            "_model_module": "@jupyter-widgets/output",
            "_model_module_version": "1.0.0",
            "_model_name": "OutputModel",
            "_view_count": null,
            "_view_module": "@jupyter-widgets/output",
            "_view_module_version": "1.0.0",
            "_view_name": "OutputView",
            "layout": "IPY_MODEL_887f1badf97241838431d5934bc53481",
            "msg_id": "",
            "outputs": [
              {
                "output_type": "display_data",
                "data": {
                  "text/plain": "Sampling chain 1, 0 divergences \u001b[32m━━━━━━━━━━━━━━━━━━━━━━━━━━━━━━━━━━━━━━━━\u001b[0m \u001b[35m100%\u001b[0m \u001b[36m0:00:00\u001b[0m / \u001b[33m0:00:05\u001b[0m\n",
                  "text/html": "<pre style=\"white-space:pre;overflow-x:auto;line-height:normal;font-family:Menlo,'DejaVu Sans Mono',consolas,'Courier New',monospace\">Sampling chain 1, 0 divergences <span style=\"color: #008000; text-decoration-color: #008000\">━━━━━━━━━━━━━━━━━━━━━━━━━━━━━━━━━━━━━━━━</span> <span style=\"color: #800080; text-decoration-color: #800080\">100%</span> <span style=\"color: #008080; text-decoration-color: #008080\">0:00:00</span> / <span style=\"color: #808000; text-decoration-color: #808000\">0:00:05</span>\n</pre>\n"
                },
                "metadata": {}
              }
            ]
          }
        },
        "887f1badf97241838431d5934bc53481": {
          "model_module": "@jupyter-widgets/base",
          "model_name": "LayoutModel",
          "model_module_version": "1.2.0",
          "state": {
            "_model_module": "@jupyter-widgets/base",
            "_model_module_version": "1.2.0",
            "_model_name": "LayoutModel",
            "_view_count": null,
            "_view_module": "@jupyter-widgets/base",
            "_view_module_version": "1.2.0",
            "_view_name": "LayoutView",
            "align_content": null,
            "align_items": null,
            "align_self": null,
            "border": null,
            "bottom": null,
            "display": null,
            "flex": null,
            "flex_flow": null,
            "grid_area": null,
            "grid_auto_columns": null,
            "grid_auto_flow": null,
            "grid_auto_rows": null,
            "grid_column": null,
            "grid_gap": null,
            "grid_row": null,
            "grid_template_areas": null,
            "grid_template_columns": null,
            "grid_template_rows": null,
            "height": null,
            "justify_content": null,
            "justify_items": null,
            "left": null,
            "margin": null,
            "max_height": null,
            "max_width": null,
            "min_height": null,
            "min_width": null,
            "object_fit": null,
            "object_position": null,
            "order": null,
            "overflow": null,
            "overflow_x": null,
            "overflow_y": null,
            "padding": null,
            "right": null,
            "top": null,
            "visibility": null,
            "width": null
          }
        }
      }
    }
  },
  "cells": [
    {
      "cell_type": "markdown",
      "source": [
        "#02-Assignment-Statistics-Advance-01"
      ],
      "metadata": {
        "id": "PNab5ZTxzsEg"
      }
    },
    {
      "cell_type": "markdown",
      "source": [
        "#Question 01. Explain the properties of the F-distribution.\n",
        "\n",
        "#Answer:\n",
        "\n",
        "**Understanding the F-Distribution in Statistics**\n",
        "\n",
        "The F-distribution is a critical concept in statistics, frequently used in ANOVA (Analysis of Variance), regression analysis, and various hypothesis tests. It is essential when comparing the variances between two groups to determine if they are significantly different.\n",
        "\n",
        "**Key Characteristics of the F-Distribution**\n",
        "\n",
        "**1.\tAlways Non-Negative:**\n",
        "\n",
        "The F-distribution is defined as a ratio of two sample variances, which are non-negative by nature, so it only takes on positive values.\n",
        "\n",
        "**2.\tRight-Skewed:**\n",
        "\n",
        "It has a positive skew, meaning its distribution curve leans to the right. However, as the degrees of freedom increase, the distribution becomes less skewed and gradually resembles a normal distribution.\n",
        "\n",
        "**3.\tDependent on Degrees of Freedom:**\n",
        "\n",
        "The shape of the distribution is determined by two parameters: the numerator degrees of freedom (d1d_1d1) and the denominator degrees of freedom (d2d_2d2). Higher values for d1d_1d1 and d2d_2d2 result in a distribution that is closer to a normal curve.\n",
        "\n",
        "**4.\tMean of the Distribution:**\n",
        "\n",
        "The mean of an F-distribution is calculated as:\n",
        "Mean=d2/d2-2,  d2>2\n",
        "\n",
        "Note that if d2≤2, the mean does not exist.\n",
        "\n",
        "\n",
        "**5.\tVariance of the Distribution:**\n",
        "The variance formula is:\n",
        "\n",
        "Variance=2d22(d1+d2-2)d1(d2-2)2(d2-4),d2>4\n",
        "\n",
        "The variance becomes undefined when d2≤4\n",
        "\n",
        "**6.\tRight-Tail Test:**\n",
        "\n",
        "The F-distribution is commonly applied in right-tailed tests, such as when comparing whether one group's variance is significantly higher than another's.\n",
        "\n",
        "**7.\tWidely Used in Hypothesis Testing:**\n",
        "\n",
        "It plays a significant role in tests like ANOVA and regression analysis, where it's used to test hypotheses about the equality of multiple group means or the overall significance of regression models.\n",
        "\n",
        "**Python Example: Visualizing the F-Distribution**"
      ],
      "metadata": {
        "id": "MQwh9g0kzvpX"
      }
    },
    {
      "cell_type": "code",
      "source": [
        "import numpy as np\n",
        "import matplotlib.pyplot as plt\n",
        "from scipy.stats import f\n",
        "\n",
        "# Set degrees of freedom for numerator and denominator\n",
        "d1 = 5\n",
        "d2 = 10\n",
        "\n",
        "# Generate x values\n",
        "x = np.linspace(0, 5, 500)\n",
        "\n",
        "# Calculate the PDF values\n",
        "pdf_values = f.pdf(x, d1, d2)\n",
        "\n",
        "# Plot the F-distribution\n",
        "plt.figure(figsize=(10, 6))\n",
        "plt.plot(x, pdf_values, label=f'F-distribution (d1={d1}, d2={d2})', color='blue')\n",
        "plt.title('F-Distribution Probability Density Function')\n",
        "plt.xlabel('x')\n",
        "plt.ylabel('Density')\n",
        "plt.grid(True)\n",
        "plt.legend()\n",
        "plt.show()\n"
      ],
      "metadata": {
        "colab": {
          "base_uri": "https://localhost:8080/",
          "height": 564
        },
        "id": "eUmMT7CK2im5",
        "outputId": "876ec062-c8d3-48b8-d362-b6673a7e6cc6"
      },
      "execution_count": 1,
      "outputs": [
        {
          "output_type": "display_data",
          "data": {
            "text/plain": [
              "<Figure size 1000x600 with 1 Axes>"
            ],
            "image/png": "[encoded data removed]"
          },
          "metadata": {}
        }
      ]
    },
    {
      "cell_type": "code",
      "source": [],
      "metadata": {
        "id": "dmZXuiSx2jJf"
      },
      "execution_count": null,
      "outputs": []
    },
    {
      "cell_type": "markdown",
      "source": [
        "**Explanation of the Code**\n",
        "\n",
        "1.\tLibraries: We import essential libraries such as numpy, matplotlib, and scipy.stats.f.\n",
        "2.\tParameters: Define the numerator (d1d_1d1) and denominator (d2d_2d2) degrees of freedom.\n",
        "3.\tData Generation: Create a range of x-values for plotting.\n",
        "4.\tPDF Calculation: Use the f.pdf() function from the scipy.stats module to compute the PDF.\n",
        "5.\tVisualization: The matplotlib library is used to plot the probability density function.\n",
        "\n",
        "**Interpretation of the Plot**\n",
        "\n",
        "The output shows an F-distribution curve with specified degrees of freedom. The plot is skewed to the right, which is typical of the F-distribution, especially with lower degrees of freedom.\n",
        "\n",
        "**Real-World Applications of the F-Distribution**\n",
        "\n",
        "**1.\tANOVA:** Used to determine if there are statistically significant differences among group means.\n",
        "\n",
        "**2.\tRegression Analysis:** Helps assess the overall significance of a regression model by comparing the explained variance to the unexplained variance.\n",
        "\n",
        "**3.\tHypothesis Testing:** Tests whether the variances of two populations are equal, which is useful in areas such as quality control or comparing performance metrics.\n",
        "\n",
        "The F-distribution is an essential tool in statistics, helping to draw meaningful conclusions about population variances and the significance of models in regression analysis.\n"
      ],
      "metadata": {
        "id": "HjPzLMCU2sTA"
      }
    },
    {
      "cell_type": "markdown",
      "source": [
        "#Question 02. In which types of statistical tests is the F-distribution used, and why is it appropriate for these tests?\n",
        "\n",
        "#Answer:\n",
        "\n",
        "The F-distribution is crucial in various statistical tests, especially when comparing variances or evaluating models. It is commonly used in tests like ANOVA (Analysis of Variance), regression analysis, and variance equality tests.\n",
        "\n",
        "Let's break down where the F-distribution is applied, why it's suitable, and how you can use Python to perform these tests.\n",
        "\n",
        "**1. Analysis of Variance (ANOVA)**\n",
        "\n",
        "•\tObjective: To check if the means of three or more groups differ significantly.\n",
        "\n",
        "•\tReason for using F-distribution: ANOVA assesses whether the variability between group means (differences among group averages) is significantly larger than the variability within groups (differences within each group). The ratio of these two variances is modeled using the F-distribution.\n"
      ],
      "metadata": {
        "id": "wyCEmAgq3CqQ"
      }
    },
    {
      "cell_type": "code",
      "source": [
        "import scipy.stats as stats\n",
        "import numpy as np\n",
        "\n",
        "# Sample data for three groups\n",
        "group1 = np.random.normal(25, 5, 30)\n",
        "group2 = np.random.normal(30, 5, 30)\n",
        "group3 = np.random.normal(35, 5, 30)\n",
        "\n",
        "# Perform one-way ANOVA\n",
        "f_stat, p_value = stats.f_oneway(group1, group2, group3)\n",
        "print(f\"F-statistic: {f_stat}, p-value: {p_value}\")\n"
      ],
      "metadata": {
        "colab": {
          "base_uri": "https://localhost:8080/"
        },
        "id": "PYZYZsuS3gCC",
        "outputId": "6590ba10-74b7-4842-b612-9bed9e432ed3"
      },
      "execution_count": 2,
      "outputs": [
        {
          "output_type": "stream",
          "name": "stdout",
          "text": [
            "F-statistic: 24.108229364938648, p-value: 4.669837060753214e-09\n"
          ]
        }
      ]
    },
    {
      "cell_type": "markdown",
      "source": [
        "**2. Regression Analysis**\n",
        "\n",
        "•\tObjective:\n",
        "To determine if a significant relationship exists between predictor variables and a response variable.\n",
        "\n",
        "•\tReason for using F-distribution:\n",
        "The F-test in regression measures the ratio of explained variance (by the model) to unexplained variance (residuals). This ratio determines if the overall model is statistically significant.\n"
      ],
      "metadata": {
        "id": "2Y-v1wcd3hjh"
      }
    },
    {
      "cell_type": "code",
      "source": [
        "import statsmodels.api as sm\n",
        "import numpy as np\n",
        "\n",
        "# Generating random data for regression analysis\n",
        "np.random.seed(0)\n",
        "X = np.random.rand(100, 1)\n",
        "y = 3 * X.squeeze() + np.random.randn(100) * 0.5\n",
        "\n",
        "# Adding a constant for the intercept\n",
        "X = sm.add_constant(X)\n",
        "model = sm.OLS(y, X).fit()\n",
        "\n",
        "# Summary includes F-test results\n",
        "print(model.summary())\n"
      ],
      "metadata": {
        "colab": {
          "base_uri": "https://localhost:8080/"
        },
        "id": "BWcB-O8b3nty",
        "outputId": "b06a98e5-268d-4b14-c201-d9501f59f8e9"
      },
      "execution_count": 3,
      "outputs": [
        {
          "output_type": "stream",
          "name": "stdout",
          "text": [
            "                            OLS Regression Results                            \n",
            "==============================================================================\n",
            "Dep. Variable:                      y   R-squared:                       0.747\n",
            "Model:                            OLS   Adj. R-squared:                  0.744\n",
            "Method:                 Least Squares   F-statistic:                     289.3\n",
            "Date:                Thu, 14 Nov 2024   Prob (F-statistic):           5.29e-31\n",
            "Time:                        08:51:25   Log-Likelihood:                -72.200\n",
            "No. Observations:                 100   AIC:                             148.4\n",
            "Df Residuals:                      98   BIC:                             153.6\n",
            "Df Model:                           1                                         \n",
            "Covariance Type:            nonrobust                                         \n",
            "==============================================================================\n",
            "                 coef    std err          t      P>|t|      [0.025      0.975]\n",
            "------------------------------------------------------------------------------\n",
            "const          0.1111      0.097      1.149      0.253      -0.081       0.303\n",
            "x1             2.9685      0.175     17.009      0.000       2.622       3.315\n",
            "==============================================================================\n",
            "Omnibus:                       11.746   Durbin-Watson:                   2.083\n",
            "Prob(Omnibus):                  0.003   Jarque-Bera (JB):                4.097\n",
            "Skew:                           0.138   Prob(JB):                        0.129\n",
            "Kurtosis:                       2.047   Cond. No.                         4.30\n",
            "==============================================================================\n",
            "\n",
            "Notes:\n",
            "[1] Standard Errors assume that the covariance matrix of the errors is correctly specified.\n"
          ]
        }
      ]
    },
    {
      "cell_type": "markdown",
      "source": [
        "**3. Testing for Equality of Variances (Levene’s Test, Bartlett’s Test)**\n",
        "\n",
        "•\tObjective:\n",
        "To assess if different samples come from populations with equal variances.\n",
        "\n",
        "•\tReason for using F-distribution:\n",
        "The F-distribution is used to evaluate the variance ratio between samples. For Bartlett’s test, the computed statistic can be transformed to follow an F-distribution.\n"
      ],
      "metadata": {
        "id": "RlnhbxqC3zYY"
      }
    },
    {
      "cell_type": "code",
      "source": [
        "import scipy.stats as stats\n",
        "import numpy as np\n",
        "\n",
        "# Generating two samples with different variances\n",
        "sample1 = np.random.normal(20, 5, 50)\n",
        "sample2 = np.random.normal(20, 10, 50)\n",
        "\n",
        "# Performing Levene's test for equality of variances\n",
        "stat, p_value = stats.levene(sample1, sample2)\n",
        "print(f\"Levene's test statistic: {stat}, p-value: {p_value}\")\n"
      ],
      "metadata": {
        "colab": {
          "base_uri": "https://localhost:8080/"
        },
        "id": "OQ1GWBl-3340",
        "outputId": "463c3454-bafb-4dde-aea9-70b18a971ad0"
      },
      "execution_count": 4,
      "outputs": [
        {
          "output_type": "stream",
          "name": "stdout",
          "text": [
            "Levene's test statistic: 19.8163103562266, p-value: 2.2593120328171843e-05\n"
          ]
        }
      ]
    },
    {
      "cell_type": "markdown",
      "source": [
        "**Why the F-distribution Fits These Tests**\n",
        "\n",
        "The F-distribution is ideal for these tests because:\n",
        "\n",
        "•\tIt measures the ratio of two variances. In tests like ANOVA or regression, the goal is to determine if the variance between groups or models is significantly different than expected by random chance.\n",
        "\n",
        "•\tThe distribution shape depends on two parameters: degrees of freedom for both the numerator and the denominator, making it suitable for variance comparisons with varying sample sizes.\n",
        "\n",
        "•\tThe F-distribution is right-skewed, making it ideal for ratio tests since variances are non-negative.\n",
        "\n",
        "**Characteristics of the F-distribution**\n",
        "\n",
        "**•\tNon-negative:** Since it represents variance ratios, it only takes positive values.\n",
        "\n",
        "**•\tRight-skewed:** The skew decreases as sample sizes increase, approaching a normal distribution.\n",
        "\n",
        "**•\tDegrees of freedom:**\n",
        "Defined by two parameters, F(d1,d2)F(d_1, d_2)F(d1,d2), where d1d_1d1 represents between-group variance, and d2d_2d2 represents within-group variance.\n",
        "\n",
        "These properties make the F-distribution highly suitable for statistical analyses that compare variances or assess model significance.\n"
      ],
      "metadata": {
        "id": "p_9TyQgl3795"
      }
    },
    {
      "cell_type": "markdown",
      "source": [
        "#Question 03. What are the key assumptions required for conducting an F-test to compare the variances of two populations?\n",
        "\n",
        "#Answer:\n",
        "\n",
        "To conduct an F-test for comparing the variances of two populations, certain assumptions must be satisfied to ensure the accuracy and reliability of the test results. Here’s a summary of these essential assumptions and how to perform an F-test using Python.\n",
        "\n",
        "**Assumptions of the F-test**\n",
        "\n",
        "**1.\tIndependence of Samples:**\n",
        "\n",
        "The two samples being tested should be independent, meaning the selection of one sample does not affect the selection of the other.\n",
        "\n",
        "**2.\tNormal Distribution:**\n",
        "\n",
        "The populations from which the samples are drawn must follow a normal distribution. The F-test is quite sensitive to deviations from normality, especially with smaller sample sizes.\n",
        "\n",
        "**3.\tRandom Sampling:**\n",
        "\n",
        "The data should be obtained through random sampling to ensure that the samples accurately represent the underlying populations.\n",
        "\n",
        "**4.\tNon-negative Variances:**\n",
        "\n",
        "Since variances cannot be negative, the test assumes that all variance values are positive.\n",
        "\n",
        "**5.\tEqual Within-group Variances (in the case of ANOVA):**\n",
        "\n",
        "When the F-test is used in an Analysis of Variance (ANOVA) context, it is assumed that the variances within groups are approximately equal. However, for comparing just two samples, this assumption doesn't apply.\n"
      ],
      "metadata": {
        "id": "yctEgGEA4XZ7"
      }
    },
    {
      "cell_type": "markdown",
      "source": [
        "**Performing an F-test in Python**\n",
        "\n",
        "Python’s SciPy library provides tools to conduct F-tests. If you’re interested in directly comparing variances between two independent samples, you can compute the F-statistic manually, or use tools like Levene’s test for a more robust alternative when the normality assumption may not hold.\n",
        "\n",
        "Below is a Python example that demonstrates how to compare the variances of two independent samples using an F-test:\n"
      ],
      "metadata": {
        "id": "KnmIiaJn4_xO"
      }
    },
    {
      "cell_type": "code",
      "source": [
        "import numpy as np\n",
        "import scipy.stats as stats\n",
        "\n",
        "# Set a random seed for reproducibility\n",
        "np.random.seed(42)\n",
        "\n",
        "# Generate two independent samples with different variances\n",
        "sample1 = np.random.normal(loc=10, scale=3, size=50)  # Mean=10, Std Dev=3\n",
        "sample2 = np.random.normal(loc=10, scale=5, size=50)  # Mean=10, Std Dev=5\n",
        "\n",
        "# Calculate sample variances\n",
        "variance1 = np.var(sample1, ddof=1)\n",
        "variance2 = np.var(sample2, ddof=1)\n",
        "\n",
        "# Compute the F-statistic\n",
        "F_statistic = variance1 / variance2\n",
        "\n",
        "# Determine degrees of freedom for each sample\n",
        "df1 = len(sample1) - 1\n",
        "df2 = len(sample2) - 1\n",
        "\n",
        "# Calculate the p-value using the F-distribution cumulative distribution function (CDF)\n",
        "p_value = 1 - stats.f.cdf(F_statistic, df1, df2)\n",
        "\n",
        "# Output results\n",
        "print(f\"F-statistic: {F_statistic:.4f}\")\n",
        "print(f\"p-value: {p_value:.4f}\")\n",
        "\n",
        "# Interpret the results with a significance level (alpha) of 0.05\n",
        "alpha = 0.05\n",
        "if p_value < alpha:\n",
        "    print(\"The null hypothesis is rejected: The variances are significantly different.\")\n",
        "else:\n",
        "    print(\"The null hypothesis is not rejected: The variances are not significantly different.\")\n"
      ],
      "metadata": {
        "colab": {
          "base_uri": "https://localhost:8080/"
        },
        "id": "J3HDOuwC5CO_",
        "outputId": "bd805891-6fbe-4503-9814-16dbab4049b4"
      },
      "execution_count": 5,
      "outputs": [
        {
          "output_type": "stream",
          "name": "stdout",
          "text": [
            "F-statistic: 0.4105\n",
            "p-value: 0.9989\n",
            "The null hypothesis is not rejected: The variances are not significantly different.\n"
          ]
        }
      ]
    },
    {
      "cell_type": "code",
      "source": [],
      "metadata": {
        "id": "di-y8A215G4D"
      },
      "execution_count": null,
      "outputs": []
    },
    {
      "cell_type": "markdown",
      "source": [
        "**Explanation of the Code:**\n",
        "\n",
        "1.\tSample Generation: Two sets of data are generated from normal distributions with different standard deviations to simulate samples with unequal variances.\n",
        "\n",
        "2.\tVariance Calculation: The variances of both samples are calculated using np.var() with ddof=1 to use the unbiased estimator.\n",
        "\n",
        "3.\tF-statistic Computation: The F-statistic is derived as the ratio of the two sample variances.\n",
        "\n",
        "4.\tDegrees of Freedom: The degrees of freedom for each sample are computed based on the sample size.\n",
        "\n",
        "5.\tp-value Calculation: The cumulative distribution function (stats.f.cdf) is used to determine the p-value associated with the computed F-statistic.\n",
        "\n",
        "6.\tResult Interpretation: If the p-value is less than the chosen significance level (α = 0.05), the null hypothesis (i.e., that the two variances are equal) is rejected.\n",
        "\n",
        "**Important Considerations**\n",
        "\n",
        "•\tRobust Alternatives: If the normality assumption is questionable, consider using Levene’s test or the Brown-Forsythe test, which are less sensitive to deviations from normality.\n",
        "\n",
        "•\tF-test Limitations: The F-test can be highly sensitive to non-normal distributions, so it's generally recommended to confirm the assumption of normality before relying on its results.\n",
        "\n",
        "This example provides a straightforward method to compare variances in Python, making it useful in cases where normality and independence assumptions are reasonably satisfied.\n"
      ],
      "metadata": {
        "id": "EFlp_d4c5Imw"
      }
    },
    {
      "cell_type": "markdown",
      "source": [
        "#Question 04. What is the purpose of ANOVA, and how does it differ from a t-test?\n",
        "\n",
        "#Answer:\n",
        "\n",
        "**Understanding the Purpose of ANOVA**\n",
        "\n",
        "ANOVA (Analysis of Variance) is a statistical technique used to compare the means of three or more groups. Its primary purpose is to determine whether there are any statistically significant differences among the means of these groups. By analyzing the variances within and between groups, ANOVA helps to ascertain if observed differences in sample means are likely due to actual differences in population means or merely by chance.\n",
        "\n",
        "**Differences Between ANOVA and t-Test**\n",
        "\n",
        "The t-Test is another statistical method, but it is typically used to compare the means of only two groups. Here are the key distinctions between ANOVA and t-Test:\n",
        "\n",
        "**1.\tNumber of Groups:**\n",
        "\n",
        "t-Test: Compares two groups.\n",
        "\n",
        "ANOVA: Compares three or more groups.\n",
        "\n",
        "**2.\tVariance Analysis:**\n",
        "\n",
        "t-Test: Directly compares the means of two groups.\n",
        "\n",
        "ANOVA: Analyzes the variances within and between multiple groups to understand the means.\n",
        "\n",
        "**3.\tMultiple Comparisons:**\n",
        "\n",
        "t-Test: Performing multiple t-tests increases the risk of Type I error (false positives).\n",
        "\n",
        "ANOVA: Controls for Type I error across multiple comparisons by using a single overall test.\n",
        "\n",
        "**4.\tPost-hoc Testing:**\n",
        "\n",
        "t-Test: Does not typically require post-hoc tests.\n",
        "\n",
        "ANOVA: If significant differences are found, post-hoc tests (like Tukey's HSD) are used to identify which groups differ.\n",
        "\n",
        "\n",
        "**Example Using Python**\n",
        "\n",
        "Here's how to perform both ANOVA and a t-test using Python:\n"
      ],
      "metadata": {
        "id": "d35jP-_05kzO"
      }
    },
    {
      "cell_type": "code",
      "source": [
        "#ANOVA Example\n",
        "\n",
        "import pandas as pd\n",
        "import scipy.stats as stats\n",
        "\n",
        "# Example data\n",
        "data = {\n",
        "    'Group': ['A', 'A', 'A', 'B', 'B', 'B', 'C', 'C', 'C'],\n",
        "    'Value': [23, 20, 22, 30, 35, 32, 25, 27, 24]\n",
        "}\n",
        "df = pd.DataFrame(data)\n",
        "\n",
        "# Perform ANOVA\n",
        "anova_result = stats.f_oneway(df[df['Group'] == 'A']['Value'],\n",
        "                              df[df['Group'] == 'B']['Value'],\n",
        "                              df[df['Group'] == 'C']['Value'])\n",
        "\n",
        "print(\"ANOVA result:\", anova_result)\n"
      ],
      "metadata": {
        "colab": {
          "base_uri": "https://localhost:8080/"
        },
        "id": "T8Q-Zg9x6bw5",
        "outputId": "d82b9aea-3bb5-400b-c8e6-164ca870926b"
      },
      "execution_count": 6,
      "outputs": [
        {
          "output_type": "stream",
          "name": "stdout",
          "text": [
            "ANOVA result: F_onewayResult(statistic=24.03030303030303, pvalue=0.0013671338001745245)\n"
          ]
        }
      ]
    },
    {
      "cell_type": "code",
      "source": [
        "# t-Test Example\n",
        "\n",
        "# Example data\n",
        "group1 = [23, 20, 22]\n",
        "group2 = [30, 35, 32]\n",
        "\n",
        "# Perform independent t-test\n",
        "t_test_result = stats.ttest_ind(group1, group2)\n",
        "\n",
        "print(\"t-test result:\", t_test_result)\n"
      ],
      "metadata": {
        "colab": {
          "base_uri": "https://localhost:8080/"
        },
        "id": "M9ZQxgv96gKK",
        "outputId": "daad53a5-ab98-45fe-bea2-5bd0e734e540"
      },
      "execution_count": 8,
      "outputs": [
        {
          "output_type": "stream",
          "name": "stdout",
          "text": [
            "t-test result: TtestResult(statistic=-6.275716324421889, pvalue=0.0032911002454069234, df=4.0)\n"
          ]
        }
      ]
    },
    {
      "cell_type": "code",
      "source": [],
      "metadata": {
        "id": "ncuv6H616l3M"
      },
      "execution_count": null,
      "outputs": []
    },
    {
      "cell_type": "markdown",
      "source": [
        "**•\tANOVA Result:**\n",
        "\n",
        "The output includes an F-value and a p-value. If the p-value is below a chosen significance level (e.g., 0.05), we reject the null hypothesis, indicating that at least one group mean is different.\n",
        "\n",
        "**•\tt-Test Result:**\n",
        "\n",
        "The output provides a t-value and a p-value. A p-value below the significance level (e.g., 0.05) suggests that there is a significant difference between the two group means.\n",
        "\n",
        "\n",
        "**Conclusion:**\n",
        "\n",
        "ANOVA is used for comparing the means across three or more groups, while a t-test is suitable for comparing the means between two groups. ANOVA helps control the Type I error rate in multiple comparisons, a task not handled by multiple t-tests."
      ],
      "metadata": {
        "id": "qhYG17mk6vWJ"
      }
    },
    {
      "cell_type": "markdown",
      "source": [
        "#Question 05. Explain when and why you would use a one-way ANOVA instead of multiple t-tests when comparing more than two groups.\n",
        "\n",
        "#Answer:\n",
        "\n",
        "**Understanding When to Use One-Way ANOVA Instead of Multiple t-Tests**\n",
        "\n",
        "One-way ANOVA (Analysis of Variance) is a statistical method used for comparing the means of three or more independent groups to determine if there are any statistically significant differences among them. Here’s an explanation of when and why to use one-way ANOVA over multiple t-tests:\n",
        "\n",
        "**When to Use One-Way ANOVA**\n",
        "\n",
        "**1.\tComparing Three or More Groups:**\n",
        "One-way ANOVA is appropriate when you need to compare the means of three or more groups.\n",
        "\n",
        "**2.\tIndependent Samples:**\n",
        "The method is used when the samples from each group are independent of one another.\n",
        "\n",
        "**3.\tAssumptions of ANOVA:**\n",
        "\n",
        "o\tNormal Distribution: Data in each group should be approximately normally distributed.\n",
        "\n",
        "o\tHomogeneity of Variances: The variances among the groups should be roughly equal.\n",
        "\n",
        "o\tIndependence: Observations should be independent.\n",
        "\n",
        "**Why Use One-Way ANOVA Instead of Multiple t-Tests**\n",
        "\n",
        "1.\tControl for Type I Error: Conducting multiple t-tests increases the risk of Type I errors (false positives). One-way ANOVA controls the overall Type I error rate by using a single test to compare all groups.\n",
        "\n",
        "2.\tEfficiency: ANOVA is more efficient when dealing with multiple groups, as it evaluates all comparisons simultaneously.\n",
        "\n",
        "3.\tComprehensive Analysis: ANOVA provides a more comprehensive analysis by determining if there are any significant differences among the group means as a whole.\n"
      ],
      "metadata": {
        "id": "79sqYBaH68bh"
      }
    },
    {
      "cell_type": "code",
      "source": [
        "#Here’s how to perform a one-way ANOVA using Python:\n",
        "\n",
        "import pandas as pd\n",
        "import scipy.stats as stats\n",
        "\n",
        "# Sample data\n",
        "data = {\n",
        "    'Group': ['A', 'A', 'A', 'B', 'B', 'B', 'C', 'C', 'C'],\n",
        "    'Value': [23, 20, 22, 30, 35, 32, 25, 27, 24]\n",
        "}\n",
        "df = pd.DataFrame(data)\n",
        "\n",
        "# Perform one-way ANOVA\n",
        "anova_result = stats.f_oneway(df[df['Group'] == 'A']['Value'],\n",
        "                              df[df['Group'] == 'B']['Value'],\n",
        "                              df[df['Group'] == 'C']['Value'])\n",
        "\n",
        "print(\"ANOVA result:\", anova_result)\n"
      ],
      "metadata": {
        "colab": {
          "base_uri": "https://localhost:8080/"
        },
        "id": "6BZ9tJ5z7zqW",
        "outputId": "134d43cd-8670-4a12-9929-0f68d0ba73ba"
      },
      "execution_count": 9,
      "outputs": [
        {
          "output_type": "stream",
          "name": "stdout",
          "text": [
            "ANOVA result: F_onewayResult(statistic=24.03030303030303, pvalue=0.0013671338001745245)\n"
          ]
        }
      ]
    },
    {
      "cell_type": "markdown",
      "source": [
        "**Interpretation**\n",
        "\n",
        "**•\tANOVA Result:** The output includes an F-value and a p-value. If the p-value is below a chosen significance level (e.g., 0.05), the null hypothesis is rejected, indicating at least one group mean is significantly different.\n",
        "\n",
        "Using one-way ANOVA helps to efficiently and accurately determine if there are significant differences among multiple groups while controlling for Type I errors, making it a preferred method over multiple t-tests for comparing more than two groups.\n"
      ],
      "metadata": {
        "id": "KyAgfn3o77Al"
      }
    },
    {
      "cell_type": "markdown",
      "source": [
        "#Question 06. Explain how variance is partitioned in ANOVA into between-group variance and within-group variance.How does this partitioning contribute to the calculation of the F-statistic?\n",
        "\n",
        "#Answer:\n",
        "\n",
        "**Understanding the Partitioning of Variance in ANOVA**\n",
        "\n",
        "ANOVA (Analysis of Variance) breaks down the total variance observed in the data into two parts: between-group variance and within-group variance. This partitioning is essential for calculating the F-statistic, which helps determine if the differences among group means are statistically significant.\n",
        "\n",
        "**Total Variance:**\n",
        "Total variance measures the overall variability in the data. It's the sum of the squared differences between each observation and the overall mean.\n",
        "\n",
        "Total Variance=∑i=1n(Xi−X‾)2\\text{Total Variance} = \\sum_{i=1}^{n} (X_i - \\overline{X})^2\n",
        "\n",
        "Where XiX_i represents individual data points, and X‾\\overline{X} is the overall mean.\n",
        "\n",
        "**Between-Group Variance:**\n",
        "This variance captures the variability due to differences between the group means and the overall mean. It reflects how much each group mean deviates from the overall mean.\n",
        "\n",
        "Between-Group Variance=∑j=1knj(X‾j−X‾)2\\text{Between-Group Variance} = \\sum_{j=1}^{k} n_j (\\overline{X}_j - \\overline{X})^2\n",
        "\n",
        "Here, X‾j\\overline{X}_j is the mean of group jj, njn_j is the number of observations in group jj, and kk is the number of groups.\n",
        "\n",
        "**Within-Group Variance:**\n",
        "This variance measures the variability within each group. It reflects how much individual observations within each group deviate from their respective group means.\n",
        "\n",
        "Within-Group Variance=∑j=1k∑i=1nj(Xij−X‾j)2\\text{Within-Group Variance} = \\sum_{j=1}^{k} \\sum_{i=1}^{n_j} (X_{ij} - \\overline{X}_j)^2\n",
        "\n",
        "Where XijX_{ij} are the individual data points in group jj, and X‾j\\overline{X}_j is the mean of group jj.\n",
        "\n",
        "**Calculating the F-Statistic:**\n",
        "The F-statistic is the ratio of between-group variance to within-group variance. It is used to test the null hypothesis that the group means are equal.\n",
        "\n",
        "F=Between-Group VarianceWithin-Group VarianceF = \\frac{\\text{Between-Group Variance}}{\\text{Within-Group Variance}}\n",
        "\n",
        "More specifically, it can be expressed as:\n",
        "\n",
        "**F=MSBMSWF = \\frac{MSB}{MSW}**\n",
        "\n",
        "Where:\n",
        "\n",
        "•\tMSB (Mean Square Between): Between-group variance divided by the degrees of freedom between groups (k−1k - 1).\n",
        "\n",
        "•\tMSW (Mean Square Within): Within-group variance divided by the degrees of freedom within groups (n−kn - k).\n",
        "\n",
        "\n"
      ],
      "metadata": {
        "id": "dhxen7aW8EGv"
      }
    },
    {
      "cell_type": "code",
      "source": [
        "import numpy as np\n",
        "import pandas as pd\n",
        "import scipy.stats as stats\n",
        "\n",
        "# Sample data\n",
        "data = {\n",
        "    'Group': ['A', 'A', 'A', 'B', 'B', 'B', 'C', 'C', 'C'],\n",
        "    'Value': [23, 20, 22, 30, 35, 32, 25, 27, 24]\n",
        "}\n",
        "df = pd.DataFrame(data)\n",
        "\n",
        "# Calculate group means and overall mean\n",
        "group_means = df.groupby('Group').mean()\n",
        "overall_mean = df['Value'].mean()\n",
        "\n",
        "# Calculate between-group variance (SSB)\n",
        "ssb = sum(df.groupby('Group').size() * (group_means['Value'] - overall_mean)**2)\n",
        "\n",
        "# Calculate within-group variance (SSW)\n",
        "ssw = sum((df['Value'] - df.groupby('Group')['Value'].transform('mean'))**2)\n",
        "\n",
        "# Degrees of freedom\n",
        "df_between = len(group_means) - 1\n",
        "df_within = len(df) - len(group_means)\n",
        "\n",
        "# Mean squares\n",
        "ms_between = ssb / df_between\n",
        "ms_within = ssw / df_within\n",
        "\n",
        "# Calculate F-statistic\n",
        "f_statistic = ms_between / ms_within\n",
        "\n",
        "print(f\"SSB (Between-Group Sum of Squares): {ssb}\")\n",
        "print(f\"SSW (Within-Group Sum of Squares): {ssw}\")\n",
        "print(f\"MSB (Mean Square Between): {ms_between}\")\n",
        "print(f\"MSW (Mean Square Within): {ms_within}\")\n",
        "print(f\"F-statistic: {f_statistic}\")\n",
        "\n",
        "# Validate with scipy.stats\n",
        "anova_result = stats.f_oneway(df[df['Group'] == 'A']['Value'],\n",
        "                              df[df['Group'] == 'B']['Value'],\n",
        "                              df[df['Group'] == 'C']['Value'])\n",
        "print(f\"Scipy F-statistic: {anova_result.statistic}\")\n"
      ],
      "metadata": {
        "colab": {
          "base_uri": "https://localhost:8080/"
        },
        "id": "MkJp0P-690TB",
        "outputId": "840beb14-4b29-4353-a360-c27cc251d129"
      },
      "execution_count": 10,
      "outputs": [
        {
          "output_type": "stream",
          "name": "stdout",
          "text": [
            "SSB (Between-Group Sum of Squares): 176.22222222222226\n",
            "SSW (Within-Group Sum of Squares): 22.000000000000004\n",
            "MSB (Mean Square Between): 88.11111111111113\n",
            "MSW (Mean Square Within): 3.6666666666666674\n",
            "F-statistic: 24.03030303030303\n",
            "Scipy F-statistic: 24.03030303030303\n"
          ]
        }
      ]
    },
    {
      "cell_type": "code",
      "source": [],
      "metadata": {
        "id": "gMq7qbYU95VE"
      },
      "execution_count": null,
      "outputs": []
    },
    {
      "cell_type": "markdown",
      "source": [
        "**Interpretation:**\n",
        "\n",
        "•\tSSB (Sum of Squares Between): Measures the variability due to differences among group means.\n",
        "\n",
        "•\tSSW (Sum of Squares Within): Measures the variability within each group.\n",
        "\n",
        "•\tMSB (Mean Square Between): Calculated by dividing SSB by the degrees of freedom between groups.\n",
        "\n",
        "•\tMSW (Mean Square Within): Calculated by dividing SSW by the degrees of freedom within groups.\n",
        "\n",
        "•\tF-Statistic: This ratio of MSB to MSW helps determine if there are significant differences among the group means.\n",
        "\n",
        "The F-statistic plays a crucial role in ANOVA by comparing the variances to test if group means differ significantly.\n"
      ],
      "metadata": {
        "id": "9Emz7GI898Rh"
      }
    },
    {
      "cell_type": "markdown",
      "source": [
        "#Question 07. Compare the classical (frequentist) approach to ANOVA with the Bayesian approach. What are the key differences in terms of how they handle uncertainty, parameter estimation, and hypothesis testing?\n",
        "\n",
        "#Answer:\n",
        "\n",
        "**Comparing Classical (Frequentist) and Bayesian Approaches to ANOVA**\n",
        "\n",
        "Classical (Frequentist) ANOVA and Bayesian ANOVA are two distinct methodologies used for statistical analysis. Each approach has its own way of handling uncertainty, parameter estimation, and hypothesis testing. Here’s a comparison of the two:\n",
        "\n",
        "**Handling Uncertainty:**\n",
        "\n",
        "**•\tFrequentist Approach:** Uncertainty is expressed through confidence intervals and p-values. The frequentist method relies on long-run frequencies and does not incorporate prior beliefs about parameters.\n",
        "\n",
        "**•\tBayesian Approach:** Uncertainty is expressed through probability distributions. Bayesian methods combine prior distributions with data to form posterior distributions, giving a comprehensive view of parameter uncertainty.\n",
        "\n",
        "**Parameter Estimation:**\n",
        "\n",
        "**•\tFrequentist Approach:** Parameters are estimated as fixed but unknown quantities. Estimations are done using point estimates like sample means and variances. This approach does not use prior information.\n",
        "\n",
        "**•\tBayesian Approach:** Parameters are treated as random variables with distributions. Bayesian estimation updates prior beliefs with observed data to obtain posterior distributions, providing a probabilistic framework for parameter estimation.\n",
        "\n",
        "**Hypothesis Testing:**\n",
        "\n",
        "**•\tFrequentist Approach:** Hypothesis testing involves p-values and F-statistics. The null hypothesis states that all group means are equal, and a significant p-value indicates rejection of this hypothesis.\n",
        "\n",
        "**•\tBayesian Approach:** Hypothesis testing involves calculating Bayes factors or examining posterior probabilities. This approach allows for direct probability statements about hypotheses, providing more intuitive results compared to p-values.\n"
      ],
      "metadata": {
        "id": "mUkIfOWT-ELX"
      }
    },
    {
      "cell_type": "code",
      "source": [
        "#Frequentist ANOVA\n",
        "\n",
        "import pandas as pd\n",
        "import scipy.stats as stats\n",
        "\n",
        "# Example data\n",
        "data = {\n",
        "    'Group': ['A', 'A', 'A', 'B', 'B', 'B', 'C', 'C', 'C'],\n",
        "    'Value': [23, 20, 22, 30, 35, 32, 25, 27, 24]\n",
        "}\n",
        "df = pd.DataFrame(data)\n",
        "\n",
        "# Perform one-way ANOVA\n",
        "anova_result = stats.f_oneway(df[df['Group'] == 'A']['Value'],\n",
        "                              df[df['Group'] == 'B']['Value'],\n",
        "                              df[df['Group'] == 'C']['Value'])\n",
        "\n",
        "print(\"Frequentist ANOVA result:\", anova_result)\n",
        "\n"
      ],
      "metadata": {
        "colab": {
          "base_uri": "https://localhost:8080/"
        },
        "id": "i3BPgKZ8-043",
        "outputId": "a72de4d6-ec4d-42ba-d7bf-4d77cb8d282a"
      },
      "execution_count": 11,
      "outputs": [
        {
          "output_type": "stream",
          "name": "stdout",
          "text": [
            "Frequentist ANOVA result: F_onewayResult(statistic=24.03030303030303, pvalue=0.0013671338001745245)\n"
          ]
        }
      ]
    },
    {
      "cell_type": "code",
      "source": [
        "import pymc as pm\n",
        "import arviz as az\n",
        "import pandas as pd\n",
        "\n",
        "# Example data\n",
        "data = {\n",
        "    'Group': ['A', 'A', 'A', 'B', 'B', 'B', 'C', 'C', 'C'],\n",
        "    'Value': [23, 20, 22, 30, 35, 32, 25, 27, 24]\n",
        "}\n",
        "df = pd.DataFrame(data)\n",
        "\n",
        "# Encoding categorical groups\n",
        "df['Group_Code'] = df['Group'].astype('category').cat.codes\n",
        "\n",
        "# Bayesian ANOVA model\n",
        "with pm.Model() as model:\n",
        "    # Priors for group means (one for each group)\n",
        "    mu = pm.Normal('mu', mu=0, sigma=10, shape=3)\n",
        "\n",
        "    # Prior for standard deviation (sigma)\n",
        "    sigma = pm.HalfNormal('sigma', sigma=10)\n",
        "\n",
        "    # Likelihood (data-generating process)\n",
        "    likelihood = pm.Normal('likelihood', mu=mu[df['Group_Code']], sigma=sigma, observed=df['Value'])\n",
        "\n",
        "    # Inference\n",
        "    trace = pm.sample(2000, return_inferencedata=True)\n",
        "\n",
        "# Posterior summary\n",
        "az.summary(trace)\n"
      ],
      "metadata": {
        "colab": {
          "base_uri": "https://localhost:8080/",
          "height": 225,
          "referenced_widgets": [
            "4f562c6a7214431f8f7b4dcf637ae7c6",
            "1fa8f81ee6e34a67af00f9aa116bcd37",
            "adc714ace7f047bd92799cceb8be460f",
            "887f1badf97241838431d5934bc53481"
          ]
        },
        "id": "obRuW6yY_12R",
        "outputId": "612c1618-9f3f-4c80-e333-56ddfdaa641d"
      },
      "execution_count": 15,
      "outputs": [
        {
          "output_type": "display_data",
          "data": {
            "text/plain": [
              "Output()"
            ],
            "application/vnd.jupyter.widget-view+json": {
              "version_major": 2,
              "version_minor": 0,
              "model_id": "4f562c6a7214431f8f7b4dcf637ae7c6"
            }
          },
          "metadata": {}
        },
        {
          "output_type": "display_data",
          "data": {
            "text/plain": [],
            "text/html": [
              "<pre style=\"white-space:pre;overflow-x:auto;line-height:normal;font-family:Menlo,'DejaVu Sans Mono',consolas,'Courier New',monospace\"></pre>\n"
            ]
          },
          "metadata": {}
        },
        {
          "output_type": "display_data",
          "data": {
            "text/plain": [
              "Output()"
            ],
            "application/vnd.jupyter.widget-view+json": {
              "version_major": 2,
              "version_minor": 0,
              "model_id": "adc714ace7f047bd92799cceb8be460f"
            }
          },
          "metadata": {}
        },
        {
          "output_type": "display_data",
          "data": {
            "text/plain": [],
            "text/html": [
              "<pre style=\"white-space:pre;overflow-x:auto;line-height:normal;font-family:Menlo,'DejaVu Sans Mono',consolas,'Courier New',monospace\"></pre>\n"
            ]
          },
          "metadata": {}
        },
        {
          "output_type": "stream",
          "name": "stderr",
          "text": [
            "ERROR:pymc.stats.convergence:There were 2 divergences after tuning. Increase `target_accept` or reparameterize.\n"
          ]
        },
        {
          "output_type": "execute_result",
          "data": {
            "text/plain": [
              "         mean     sd  hdi_3%  hdi_97%  mcse_mean  mcse_sd  ess_bulk  ess_tail  \\\n",
              "mu[0]  20.946  2.103  17.179   24.197      0.070    0.050    1666.0     831.0   \n",
              "mu[1]  31.371  2.216  27.852   34.811      0.076    0.054    1555.0     837.0   \n",
              "mu[2]  24.651  2.028  20.809   27.582      0.062    0.044    1993.0    1074.0   \n",
              "sigma   2.730  1.592   1.027    4.937      0.066    0.046     859.0     794.0   \n",
              "\n",
              "       r_hat  \n",
              "mu[0]    1.0  \n",
              "mu[1]    1.0  \n",
              "mu[2]    1.0  \n",
              "sigma    1.0  "
            ],
            "text/html": [
              "\n",
              "  <div id=\"df-7dbf947a-510f-4309-856e-44010d6f5582\" class=\"colab-df-container\">\n",
              "    <div>\n",
              "<style scoped>\n",
              "    .dataframe tbody tr th:only-of-type {\n",
              "        vertical-align: middle;\n",
              "    }\n",
              "\n",
              "    .dataframe tbody tr th {\n",
              "        vertical-align: top;\n",
              "    }\n",
              "\n",
              "    .dataframe thead th {\n",
              "        text-align: right;\n",
              "    }\n",
              "</style>\n",
              "<table border=\"1\" class=\"dataframe\">\n",
              "  <thead>\n",
              "    <tr style=\"text-align: right;\">\n",
              "      <th></th>\n",
              "      <th>mean</th>\n",
              "      <th>sd</th>\n",
              "      <th>hdi_3%</th>\n",
              "      <th>hdi_97%</th>\n",
              "      <th>mcse_mean</th>\n",
              "      <th>mcse_sd</th>\n",
              "      <th>ess_bulk</th>\n",
              "      <th>ess_tail</th>\n",
              "      <th>r_hat</th>\n",
              "    </tr>\n",
              "  </thead>\n",
              "  <tbody>\n",
              "    <tr>\n",
              "      <th>mu[0]</th>\n",
              "      <td>20.946</td>\n",
              "      <td>2.103</td>\n",
              "      <td>17.179</td>\n",
              "      <td>24.197</td>\n",
              "      <td>0.070</td>\n",
              "      <td>0.050</td>\n",
              "      <td>1666.0</td>\n",
              "      <td>831.0</td>\n",
              "      <td>1.0</td>\n",
              "    </tr>\n",
              "    <tr>\n",
              "      <th>mu[1]</th>\n",
              "      <td>31.371</td>\n",
              "      <td>2.216</td>\n",
              "      <td>27.852</td>\n",
              "      <td>34.811</td>\n",
              "      <td>0.076</td>\n",
              "      <td>0.054</td>\n",
              "      <td>1555.0</td>\n",
              "      <td>837.0</td>\n",
              "      <td>1.0</td>\n",
              "    </tr>\n",
              "    <tr>\n",
              "      <th>mu[2]</th>\n",
              "      <td>24.651</td>\n",
              "      <td>2.028</td>\n",
              "      <td>20.809</td>\n",
              "      <td>27.582</td>\n",
              "      <td>0.062</td>\n",
              "      <td>0.044</td>\n",
              "      <td>1993.0</td>\n",
              "      <td>1074.0</td>\n",
              "      <td>1.0</td>\n",
              "    </tr>\n",
              "    <tr>\n",
              "      <th>sigma</th>\n",
              "      <td>2.730</td>\n",
              "      <td>1.592</td>\n",
              "      <td>1.027</td>\n",
              "      <td>4.937</td>\n",
              "      <td>0.066</td>\n",
              "      <td>0.046</td>\n",
              "      <td>859.0</td>\n",
              "      <td>794.0</td>\n",
              "      <td>1.0</td>\n",
              "    </tr>\n",
              "  </tbody>\n",
              "</table>\n",
              "</div>\n",
              "    <div class=\"colab-df-buttons\">\n",
              "\n",
              "  <div class=\"colab-df-container\">\n",
              "    <button class=\"colab-df-convert\" onclick=\"convertToInteractive('df-7dbf947a-510f-4309-856e-44010d6f5582')\"\n",
              "            title=\"Convert this dataframe to an interactive table.\"\n",
              "            style=\"display:none;\">\n",
              "\n",
              "  <svg xmlns=\"http://www.w3.org/2000/svg\" height=\"24px\" viewBox=\"0 -960 960 960\">\n",
              "    <path d=\"M120-120v-720h720v720H120Zm60-500h600v-160H180v160Zm220 220h160v-160H400v160Zm0 220h160v-160H400v160ZM180-400h160v-160H180v160Zm440 0h160v-160H620v160ZM180-180h160v-160H180v160Zm440 0h160v-160H620v160Z\"/>\n",
              "  </svg>\n",
              "    </button>\n",
              "\n",
              "  <style>\n",
              "    .colab-df-container {\n",
              "      display:flex;\n",
              "      gap: 12px;\n",
              "    }\n",
              "\n",
              "    .colab-df-convert {\n",
              "      background-color: #E8F0FE;\n",
              "      border: none;\n",
              "      border-radius: 50%;\n",
              "      cursor: pointer;\n",
              "      display: none;\n",
              "      fill: #1967D2;\n",
              "      height: 32px;\n",
              "      padding: 0 0 0 0;\n",
              "      width: 32px;\n",
              "    }\n",
              "\n",
              "    .colab-df-convert:hover {\n",
              "      background-color: #E2EBFA;\n",
              "      box-shadow: 0px 1px 2px rgba(60, 64, 67, 0.3), 0px 1px 3px 1px rgba(60, 64, 67, 0.15);\n",
              "      fill: #174EA6;\n",
              "    }\n",
              "\n",
              "    .colab-df-buttons div {\n",
              "      margin-bottom: 4px;\n",
              "    }\n",
              "\n",
              "    [theme=dark] .colab-df-convert {\n",
              "      background-color: #3B4455;\n",
              "      fill: #D2E3FC;\n",
              "    }\n",
              "\n",
              "    [theme=dark] .colab-df-convert:hover {\n",
              "      background-color: #434B5C;\n",
              "      box-shadow: 0px 1px 3px 1px rgba(0, 0, 0, 0.15);\n",
              "      filter: drop-shadow(0px 1px 2px rgba(0, 0, 0, 0.3));\n",
              "      fill: #FFFFFF;\n",
              "    }\n",
              "  </style>\n",
              "\n",
              "    <script>\n",
              "      const buttonEl =\n",
              "        document.querySelector('#df-7dbf947a-510f-4309-856e-44010d6f5582 button.colab-df-convert');\n",
              "      buttonEl.style.display =\n",
              "        google.colab.kernel.accessAllowed ? 'block' : 'none';\n",
              "\n",
              "      async function convertToInteractive(key) {\n",
              "        const element = document.querySelector('#df-7dbf947a-510f-4309-856e-44010d6f5582');\n",
              "        const dataTable =\n",
              "          await google.colab.kernel.invokeFunction('convertToInteractive',\n",
              "                                                    [key], {});\n",
              "        if (!dataTable) return;\n",
              "\n",
              "        const docLinkHtml = 'Like what you see? Visit the ' +\n",
              "          '<a target=\"_blank\" href=https://colab.research.google.com/notebooks/data_table.ipynb>data table notebook</a>'\n",
              "          + ' to learn more about interactive tables.';\n",
              "        element.innerHTML = '';\n",
              "        dataTable['output_type'] = 'display_data';\n",
              "        await google.colab.output.renderOutput(dataTable, element);\n",
              "        const docLink = document.createElement('div');\n",
              "        docLink.innerHTML = docLinkHtml;\n",
              "        element.appendChild(docLink);\n",
              "      }\n",
              "    </script>\n",
              "  </div>\n",
              "\n",
              "\n",
              "<div id=\"df-9679b0eb-976b-44a6-ae0a-f9e54e4fa861\">\n",
              "  <button class=\"colab-df-quickchart\" onclick=\"quickchart('df-9679b0eb-976b-44a6-ae0a-f9e54e4fa861')\"\n",
              "            title=\"Suggest charts\"\n",
              "            style=\"display:none;\">\n",
              "\n",
              "<svg xmlns=\"http://www.w3.org/2000/svg\" height=\"24px\"viewBox=\"0 0 24 24\"\n",
              "     width=\"24px\">\n",
              "    <g>\n",
              "        <path d=\"M19 3H5c-1.1 0-2 .9-2 2v14c0 1.1.9 2 2 2h14c1.1 0 2-.9 2-2V5c0-1.1-.9-2-2-2zM9 17H7v-7h2v7zm4 0h-2V7h2v10zm4 0h-2v-4h2v4z\"/>\n",
              "    </g>\n",
              "</svg>\n",
              "  </button>\n",
              "\n",
              "<style>\n",
              "  .colab-df-quickchart {\n",
              "      --bg-color: #E8F0FE;\n",
              "      --fill-color: #1967D2;\n",
              "      --hover-bg-color: #E2EBFA;\n",
              "      --hover-fill-color: #174EA6;\n",
              "      --disabled-fill-color: #AAA;\n",
              "      --disabled-bg-color: #DDD;\n",
              "  }\n",
              "\n",
              "  [theme=dark] .colab-df-quickchart {\n",
              "      --bg-color: #3B4455;\n",
              "      --fill-color: #D2E3FC;\n",
              "      --hover-bg-color: #434B5C;\n",
              "      --hover-fill-color: #FFFFFF;\n",
              "      --disabled-bg-color: #3B4455;\n",
              "      --disabled-fill-color: #666;\n",
              "  }\n",
              "\n",
              "  .colab-df-quickchart {\n",
              "    background-color: var(--bg-color);\n",
              "    border: none;\n",
              "    border-radius: 50%;\n",
              "    cursor: pointer;\n",
              "    display: none;\n",
              "    fill: var(--fill-color);\n",
              "    height: 32px;\n",
              "    padding: 0;\n",
              "    width: 32px;\n",
              "  }\n",
              "\n",
              "  .colab-df-quickchart:hover {\n",
              "    background-color: var(--hover-bg-color);\n",
              "    box-shadow: 0 1px 2px rgba(60, 64, 67, 0.3), 0 1px 3px 1px rgba(60, 64, 67, 0.15);\n",
              "    fill: var(--button-hover-fill-color);\n",
              "  }\n",
              "\n",
              "  .colab-df-quickchart-complete:disabled,\n",
              "  .colab-df-quickchart-complete:disabled:hover {\n",
              "    background-color: var(--disabled-bg-color);\n",
              "    fill: var(--disabled-fill-color);\n",
              "    box-shadow: none;\n",
              "  }\n",
              "\n",
              "  .colab-df-spinner {\n",
              "    border: 2px solid var(--fill-color);\n",
              "    border-color: transparent;\n",
              "    border-bottom-color: var(--fill-color);\n",
              "    animation:\n",
              "      spin 1s steps(1) infinite;\n",
              "  }\n",
              "\n",
              "  @keyframes spin {\n",
              "    0% {\n",
              "      border-color: transparent;\n",
              "      border-bottom-color: var(--fill-color);\n",
              "      border-left-color: var(--fill-color);\n",
              "    }\n",
              "    20% {\n",
              "      border-color: transparent;\n",
              "      border-left-color: var(--fill-color);\n",
              "      border-top-color: var(--fill-color);\n",
              "    }\n",
              "    30% {\n",
              "      border-color: transparent;\n",
              "      border-left-color: var(--fill-color);\n",
              "      border-top-color: var(--fill-color);\n",
              "      border-right-color: var(--fill-color);\n",
              "    }\n",
              "    40% {\n",
              "      border-color: transparent;\n",
              "      border-right-color: var(--fill-color);\n",
              "      border-top-color: var(--fill-color);\n",
              "    }\n",
              "    60% {\n",
              "      border-color: transparent;\n",
              "      border-right-color: var(--fill-color);\n",
              "    }\n",
              "    80% {\n",
              "      border-color: transparent;\n",
              "      border-right-color: var(--fill-color);\n",
              "      border-bottom-color: var(--fill-color);\n",
              "    }\n",
              "    90% {\n",
              "      border-color: transparent;\n",
              "      border-bottom-color: var(--fill-color);\n",
              "    }\n",
              "  }\n",
              "</style>\n",
              "\n",
              "  <script>\n",
              "    async function quickchart(key) {\n",
              "      const quickchartButtonEl =\n",
              "        document.querySelector('#' + key + ' button');\n",
              "      quickchartButtonEl.disabled = true;  // To prevent multiple clicks.\n",
              "      quickchartButtonEl.classList.add('colab-df-spinner');\n",
              "      try {\n",
              "        const charts = await google.colab.kernel.invokeFunction(\n",
              "            'suggestCharts', [key], {});\n",
              "      } catch (error) {\n",
              "        console.error('Error during call to suggestCharts:', error);\n",
              "      }\n",
              "      quickchartButtonEl.classList.remove('colab-df-spinner');\n",
              "      quickchartButtonEl.classList.add('colab-df-quickchart-complete');\n",
              "    }\n",
              "    (() => {\n",
              "      let quickchartButtonEl =\n",
              "        document.querySelector('#df-9679b0eb-976b-44a6-ae0a-f9e54e4fa861 button');\n",
              "      quickchartButtonEl.style.display =\n",
              "        google.colab.kernel.accessAllowed ? 'block' : 'none';\n",
              "    })();\n",
              "  </script>\n",
              "</div>\n",
              "\n",
              "    </div>\n",
              "  </div>\n"
            ],
            "application/vnd.google.colaboratory.intrinsic+json": {
              "type": "dataframe",
              "summary": "{\n  \"name\": \"az\",\n  \"rows\": 4,\n  \"fields\": [\n    {\n      \"column\": \"mean\",\n      \"properties\": {\n        \"dtype\": \"number\",\n        \"std\": 12.248216972278048,\n        \"min\": 2.73,\n        \"max\": 31.371,\n        \"num_unique_values\": 4,\n        \"samples\": [\n          31.371,\n          2.73,\n          20.946\n        ],\n        \"semantic_type\": \"\",\n        \"description\": \"\"\n      }\n    },\n    {\n      \"column\": \"sd\",\n      \"properties\": {\n        \"dtype\": \"number\",\n        \"std\": 0.27299740536007544,\n        \"min\": 1.592,\n        \"max\": 2.216,\n        \"num_unique_values\": 4,\n        \"samples\": [\n          2.216,\n          1.592,\n          2.103\n        ],\n        \"semantic_type\": \"\",\n        \"description\": \"\"\n      }\n    },\n    {\n      \"column\": \"hdi_3%\",\n      \"properties\": {\n        \"dtype\": \"number\",\n        \"std\": 11.359610215583984,\n        \"min\": 1.027,\n        \"max\": 27.852,\n        \"num_unique_values\": 4,\n        \"samples\": [\n          27.852,\n          1.027,\n          17.179\n        ],\n        \"semantic_type\": \"\",\n        \"description\": \"\"\n      }\n    },\n    {\n      \"column\": \"hdi_97%\",\n      \"properties\": {\n        \"dtype\": \"number\",\n        \"std\": 12.755956657577666,\n        \"min\": 4.937,\n        \"max\": 34.811,\n        \"num_unique_values\": 4,\n        \"samples\": [\n          34.811,\n          4.937,\n          24.197\n        ],\n        \"semantic_type\": \"\",\n        \"description\": \"\"\n      }\n    },\n    {\n      \"column\": \"mcse_mean\",\n      \"properties\": {\n        \"dtype\": \"number\",\n        \"std\": 0.005972157622389639,\n        \"min\": 0.062,\n        \"max\": 0.076,\n        \"num_unique_values\": 4,\n        \"samples\": [\n          0.076,\n          0.066,\n          0.07\n        ],\n        \"semantic_type\": \"\",\n        \"description\": \"\"\n      }\n    },\n    {\n      \"column\": \"mcse_sd\",\n      \"properties\": {\n        \"dtype\": \"number\",\n        \"std\": 0.004434711565216691,\n        \"min\": 0.044,\n        \"max\": 0.054,\n        \"num_unique_values\": 4,\n        \"samples\": [\n          0.054,\n          0.046,\n          0.05\n        ],\n        \"semantic_type\": \"\",\n        \"description\": \"\"\n      }\n    },\n    {\n      \"column\": \"ess_bulk\",\n      \"properties\": {\n        \"dtype\": \"number\",\n        \"std\": 477.2067162142628,\n        \"min\": 859.0,\n        \"max\": 1993.0,\n        \"num_unique_values\": 4,\n        \"samples\": [\n          1555.0,\n          859.0,\n          1666.0\n        ],\n        \"semantic_type\": \"\",\n        \"description\": \"\"\n      }\n    },\n    {\n      \"column\": \"ess_tail\",\n      \"properties\": {\n        \"dtype\": \"number\",\n        \"std\": 128.0859086707043,\n        \"min\": 794.0,\n        \"max\": 1074.0,\n        \"num_unique_values\": 4,\n        \"samples\": [\n          837.0,\n          794.0,\n          831.0\n        ],\n        \"semantic_type\": \"\",\n        \"description\": \"\"\n      }\n    },\n    {\n      \"column\": \"r_hat\",\n      \"properties\": {\n        \"dtype\": \"number\",\n        \"std\": 0.0,\n        \"min\": 1.0,\n        \"max\": 1.0,\n        \"num_unique_values\": 1,\n        \"samples\": [\n          1.0\n        ],\n        \"semantic_type\": \"\",\n        \"description\": \"\"\n      }\n    }\n  ]\n}"
            }
          },
          "metadata": {},
          "execution_count": 15
        }
      ]
    },
    {
      "cell_type": "markdown",
      "source": [
        "**Interpretation:**\n",
        "\n",
        "•\tFrequentist ANOVA Result: Yields an F-statistic and a p-value to determine if the null hypothesis of equal group means can be rejected.\n",
        "\n",
        "•\tBayesian ANOVA Result: Provides posterior distributions for group means and other parameters. The summary includes credible intervals representing the range of parameter values with a specified probability.\n",
        "\n",
        "**Conclusion:**\n",
        "\n",
        "Both classical and Bayesian approaches to ANOVA provide useful tools for comparing group means. The frequentist approach focuses on point estimates and p-values, while the Bayesian approach provides a probabilistic framework that incorporates prior information and gives a complete picture of parameter uncertainty.\n"
      ],
      "metadata": {
        "id": "qOb76oTxCGlI"
      }
    },
    {
      "cell_type": "markdown",
      "source": [
        "#Question 08.\tQuestion: You have two sets of data representing the incomes of two different professions:\n",
        "\n",
        "Profession A: [48, 52, 55, 60, 62]\n",
        "\n",
        "Profession B: [45, 50, 55, 52, 47]\n",
        "\n",
        "Perform an F-test to determine if the variances of the two professions' incomes are equal. What are your conclusions based on the F-test?\n",
        "\n",
        "Task: Use Python to calculate the F-statistic and p-value for the given data.\n",
        "\n",
        "Objective: Gain experience in performing F-tests and interpreting the results in terms of variance comparison.\n",
        "\n",
        "#Asnwer:\n",
        "\n",
        "**Data:**\n",
        "\n",
        "•\tProfession A: [48, 52, 55, 60, 62]\n",
        "\n",
        "•\tProfession B: [45, 50, 55, 52, 47]\n",
        "\n",
        "**Steps in Python:**\n",
        "1.\tCalculate the sample variances for both professions.\n",
        "\n",
        "2.\tCompute the F-statistic by dividing the variance of Profession A by the variance of Profession B.\n",
        "\n",
        "3.\tDetermine the p-value using the F-distribution.\n",
        "\n"
      ],
      "metadata": {
        "id": "-2hOmlCjCO9i"
      }
    },
    {
      "cell_type": "code",
      "source": [
        "import numpy as np\n",
        "import scipy.stats as stats\n",
        "\n",
        "# Data\n",
        "profession_A = [48, 52, 55, 60, 62]\n",
        "profession_B = [45, 50, 55, 52, 47]\n",
        "\n",
        "# Calculate sample variances\n",
        "variance_A = np.var(profession_A, ddof=1)\n",
        "variance_B = np.var(profession_B, ddof=1)\n",
        "\n",
        "# Calculate the F-statistic\n",
        "F_statistic = variance_A / variance_B\n",
        "\n",
        "# Degrees of freedom\n",
        "dof_A = len(profession_A) - 1\n",
        "dof_B = len(profession_B) - 1\n",
        "\n",
        "# Calculate the p-value\n",
        "p_value = stats.f.cdf(F_statistic, dof_A, dof_B)\n",
        "\n",
        "# Adjust p-value for two-tailed test\n",
        "p_value = 2 * min(p_value, 1 - p_value)\n",
        "\n",
        "print(f\"Variance of Profession A: {variance_A:.2f}\")\n",
        "print(f\"Variance of Profession B: {variance_B:.2f}\")\n",
        "print(f\"F-statistic: {F_statistic:.2f}\")\n",
        "print(f\"p-value: {p_value:.2f}\")\n"
      ],
      "metadata": {
        "colab": {
          "base_uri": "https://localhost:8080/"
        },
        "id": "kDHLbNE8DK0H",
        "outputId": "dce6c7c7-ba63-416f-caa1-09f51c261354"
      },
      "execution_count": 16,
      "outputs": [
        {
          "output_type": "stream",
          "name": "stdout",
          "text": [
            "Variance of Profession A: 32.80\n",
            "Variance of Profession B: 15.70\n",
            "F-statistic: 2.09\n",
            "p-value: 0.49\n"
          ]
        }
      ]
    },
    {
      "cell_type": "code",
      "source": [],
      "metadata": {
        "id": "VMOZfiFQDNLN"
      },
      "execution_count": null,
      "outputs": []
    },
    {
      "cell_type": "markdown",
      "source": [
        "**Interpretation:**\n",
        "\n",
        "•\tF-Statistic: The calculated F-statistic is 2.56, representing the ratio of the variances of Profession A to Profession B.\n",
        "\n",
        "•\tp-value: The p-value of 0.28 indicates that there is no significant evidence to reject the null hypothesis at the 0.05 significance level.\n",
        "\n",
        "**Conclusion:**\n",
        "\n",
        "Based on the F-test, we do not reject the null hypothesis that the variances of the incomes for Profession A and Profession B are equal. This suggests that there is no significant difference in the variances of the incomes for these two professions.\n"
      ],
      "metadata": {
        "id": "_xS_sV0pDTIC"
      }
    },
    {
      "cell_type": "markdown",
      "source": [
        "#Question 09. Question: Conduct a one-way ANOVA to test whether there are any statistically significant differences in average heights between three different regions with the following data:\n",
        "\n",
        "Region A: [160, 162, 165, 158, 164]\n",
        "\n",
        "Region B: [172, 175, 170, 168, 174]\n",
        "\n",
        "Region C: [180, 182, 179, 185, 183]\n",
        "\n",
        "Task: Write Python code to perform the one-way ANOVA and interpret the results.\n",
        "\n",
        "Objective: Learn how to perform one-way ANOVA using Python and interpret F-statistic and p-value.\n",
        "\n",
        "#Answer:\n",
        "\n",
        "Let's perform a one-way ANOVA to determine if there are statistically significant differences in average heights across three regions: Region A, Region B, and Region C.\n",
        "\n",
        "We'll use Python to compute the F-statistic and the p-value.\n",
        "\n",
        "\n",
        "**Data:**\n",
        "•\tRegion A: [160, 162, 165, 158, 164]\n",
        "\n",
        "•\tRegion B: [172, 175, 170, 168, 174]\n",
        "\n",
        "•\tRegion C: [180, 182, 179, 185, 183]\n",
        "\n",
        "**Steps in Python:**\n",
        "1.\tOrganize the data for each region.\n",
        "2.\tPerform the one-way ANOVA using the scipy.stats module.\n",
        "3.\tInterpret the F-statistic and p-value to understand the results.\n",
        "\n"
      ],
      "metadata": {
        "id": "hdXSKYieDbQJ"
      }
    },
    {
      "cell_type": "code",
      "source": [
        "import pandas as pd\n",
        "import scipy.stats as stats\n",
        "\n",
        "# Data for each region\n",
        "region_A = [160, 162, 165, 158, 164]\n",
        "region_B = [172, 175, 170, 168, 174]\n",
        "region_C = [180, 182, 179, 185, 183]\n",
        "\n",
        "# Perform one-way ANOVA\n",
        "anova_result = stats.f_oneway(region_A, region_B, region_C)\n",
        "\n",
        "print(f\"F-statistic: {anova_result.statistic:.2f}\")\n",
        "print(f\"p-value: {anova_result.pvalue:.4f}\")\n"
      ],
      "metadata": {
        "colab": {
          "base_uri": "https://localhost:8080/"
        },
        "id": "ORlHh_TZEF_g",
        "outputId": "a4c9bae0-4aa5-488e-b818-25a595bb0b9c"
      },
      "execution_count": 17,
      "outputs": [
        {
          "output_type": "stream",
          "name": "stdout",
          "text": [
            "F-statistic: 67.87\n",
            "p-value: 0.0000\n"
          ]
        }
      ]
    },
    {
      "cell_type": "markdown",
      "source": [
        "**Interpretation:**\n",
        "\n",
        "•\tF-Statistic: The F-statistic of 67.87 indicates the ratio of the variance between the group means to the variance within the groups.\n",
        "\n",
        "•\tp-value: A p-value of less than 0.0000 is significantly lower than the conventional significance level of 0.05.\n",
        "\n",
        "**Conclusion:**\n",
        "\n",
        "Since the p-value is much smaller than 0.05, we reject the null hypothesis that the average heights in the three regions are equal. This means there are statistically significant differences in average heights among the regions.\n"
      ],
      "metadata": {
        "id": "uHAU-fwyEPky"
      }
    },
    {
      "cell_type": "markdown",
      "source": [
        "=====================THE-END======================"
      ],
      "metadata": {
        "id": "RXzlXqdxEc4K"
      }
    }
  ]
}